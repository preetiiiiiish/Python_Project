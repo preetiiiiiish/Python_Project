{
  "nbformat": 4,
  "nbformat_minor": 0,
  "metadata": {
    "colab": {
      "provenance": []
    },
    "kernelspec": {
      "name": "python3",
      "display_name": "Python 3"
    },
    "language_info": {
      "name": "python"
    }
  },
  "cells": [
    {
      "cell_type": "code",
      "source": [
        "library_inventory = {'Book1': 5,'Book2': 3,'Book3': 7,'Book4': 2,'Book5': 4}\n",
        "\n",
        "def display_books():\n",
        "    print(\"\\nAvailable Books:\")\n",
        "    for book, quantity in library_inventory.items():\n",
        "        print(f\"{book} - {quantity} available\")\n",
        "\n",
        "def borrow_book():\n",
        "    title = input(\"Enter the title of the book you want to borrow: \")\n",
        "    if title in library_inventory:\n",
        "        quantity = int(input(\"Enter the quantity you want to borrow: \"))\n",
        "        if quantity <= library_inventory[title]:\n",
        "            library_inventory[title] -= quantity\n",
        "            print(f\"You borrowed {quantity} copy(ies) of {title}. Enjoy reading!\")\n",
        "        else:\n",
        "            print(f\"Sorry, only {library_inventory[title]} copy(ies) of {title} available.\")\n",
        "    else:\n",
        "        print(\"Book not found in the inventory.\")\n",
        "\n",
        "def return_book():\n",
        "    title = input(\"Enter the title of the book you want to return: \")\n",
        "    if title in library_inventory:\n",
        "        quantity = int(input(\"Enter the quantity you want to return: \"))\n",
        "        library_inventory[title] += quantity\n",
        "        print(f\"You returned {quantity} copy(ies) of {title}. Thank you!\")\n",
        "    else:\n",
        "        print(\"Book not found in the inventory.\")\n",
        "\n",
        "def main():\n",
        "    print(\"Welcome to the Simple Library Management System!\\n\")\n",
        "\n",
        "    while True:\n",
        "        print(\"1. Display Available Books\\n2. Borrow a Book\\n3. Return a Book\\n4. Exit\")\n",
        "        choice = input(\"Enter your choice (1-4): \")\n",
        "\n",
        "        if choice == '1':\n",
        "            display_books()\n",
        "        elif choice == '2':\n",
        "            borrow_book()\n",
        "        elif choice == '3':\n",
        "            return_book()\n",
        "        elif choice == '4':\n",
        "            print(\"\\nExiting the Library Management System. Thank you!\")\n",
        "            break\n",
        "        else:\n",
        "            print(\"Invalid choice. Please enter a number between 1 and 4.\")\n",
        "\n",
        "if __name__ == \"__main__\":\n",
        "    main()\n"
      ],
      "metadata": {
        "colab": {
          "base_uri": "https://localhost:8080/"
        },
        "id": "-H4J9LtvEmvT",
        "outputId": "f3d6a135-3a44-49ed-cdb0-a5915be074ba"
      },
      "execution_count": 2,
      "outputs": [
        {
          "output_type": "stream",
          "name": "stdout",
          "text": [
            "Welcome to the Simple Library Management System!\n",
            "\n",
            "1. Display Available Books\n",
            "2. Borrow a Book\n",
            "3. Return a Book\n",
            "4. Exit\n",
            "Enter your choice (1-4): 4\n",
            "\n",
            "Exiting the Library Management System. Thank you!\n"
          ]
        }
      ]
    }
  ]
}